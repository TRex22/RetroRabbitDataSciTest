{
 "cells": [
  {
   "cell_type": "markdown",
   "metadata": {},
   "source": [
    "# Jason Chalom Dec 2017 - Retro Rabbit Data Scientist Test\n",
    "## Task 2: Modelling\n",
    "### https://www.kaggle.com/dalpozz/creditcardfraud\n",
    "\n",
    "# Please run each section in order\n",
    "- Sections depend on work done before\n",
    "- Insight and summaries are at the end\n",
    "\n",
    "# Required Libraries\n",
    "I made use of Python 3\n",
    "Anaconda3 is recommended\n",
    "Otherwise the required libraries:\n",
    "- numpy\n",
    "- pandas\n",
    "- matplotlib\n",
    "- seaborn\n",
    "\n",
    "## TODO\n",
    "1. Preprocess the data by performing appropriate data cleaning, transformations and feature selection\n",
    "2. Suggest a technique to predict the target feature. Please write your answer in the notebook, and write why you suggest that model. Also please select appropriate performance measures\n",
    "3. Run your selected technique and report on your results from using the technique\n",
    "4. Given your results, suggest the next steps on how to further improve the model"
   ]
  },
  {
   "cell_type": "code",
   "execution_count": 2,
   "metadata": {
    "collapsed": false
   },
   "outputs": [
    {
     "name": "stdout",
     "output_type": "stream",
     "text": [
      "Data Import Done.\n"
     ]
    }
   ],
   "source": [
    "# imports\n",
    "# Seaborn was only used for more complicated graphs\n",
    "import pandas as pd\n",
    "import numpy as np\n",
    "import math\n",
    "import matplotlib.pyplot as plt\n",
    "import seaborn as sb\n",
    "\n",
    "# 0. Load data (Need the csv file in the folder with the notebook)\n",
    "data_file = \"creditcard.csv\"\n",
    "df = pd.read_csv(data_file, delimiter=\",\", encoding=\"utf-8\")\n",
    "\n",
    "# 1. clean up and normalise the data\n",
    "# cleanup headings\n",
    "df.columns = map(str.lower, df.columns)\n",
    "# There are errors in the header which the url describes - Im fixing this so its less confusing\n",
    "\n",
    "print(\"Data Import Done.\")"
   ]
  },
  {
   "cell_type": "code",
   "execution_count": null,
   "metadata": {
    "collapsed": true
   },
   "outputs": [],
   "source": [
    "\n"
   ]
  }
 ],
 "metadata": {
  "kernelspec": {
   "display_name": "Python 3",
   "language": "python",
   "name": "python3"
  },
  "language_info": {
   "codemirror_mode": {
    "name": "ipython",
    "version": 3
   },
   "file_extension": ".py",
   "mimetype": "text/x-python",
   "name": "python",
   "nbconvert_exporter": "python",
   "pygments_lexer": "ipython3",
   "version": "3.6.0"
  }
 },
 "nbformat": 4,
 "nbformat_minor": 2
}
