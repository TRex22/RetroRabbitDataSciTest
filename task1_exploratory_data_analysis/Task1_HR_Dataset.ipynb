{
 "cells": [
  {
   "cell_type": "code",
   "execution_count": 1,
   "metadata": {
    "collapsed": false
   },
   "outputs": [],
   "source": [
    "# Jason Chalom Dec 2017\n",
    "# Task 1: Exploratory Data Analysis\n",
    "# https://www.kaggle.com/ludobenistant/hr-analytics\n",
    "\n",
    "# Please run each section in order\n",
    "# Sections depend on work done before\n",
    "\n",
    "# imports\n",
    "import pandas as pd\n",
    "import numpy as np\n",
    "import math\n",
    "import matplotlib.pyplot as plt\n",
    "\n",
    "# 0. Load data (Need the csv file in the folder with the notebook)\n",
    "data_file = \"HR_comma_sep.csv\"\n",
    "df = pd.read_csv(data_file, delimiter=\",\")\n",
    "\n",
    "# variables Ill work with\n",
    "headers = np.copy(df.columns) # only 10 items so small memory cost\n",
    "data = df.values"
   ]
  },
  {
   "cell_type": "code",
   "execution_count": 2,
   "metadata": {
    "collapsed": false
   },
   "outputs": [
    {
     "name": "stdout",
     "output_type": "stream",
     "text": [
      "Example Data:\n",
      "['satisfaction_level' 'last_evaluation' 'number_project'\n",
      " 'average_montly_hours' 'time_spend_company' 'Work_accident' 'left'\n",
      " 'promotion_last_5years' 'sales' 'salary']\n",
      "[0.38 0.53 2 157 3 0 1 0 'sales' 'low']\n",
      "\n",
      "Basic Stats (only first 6 elements):\n",
      "Shape of data: (14999, 10)\n",
      "['satisfaction_level' 'last_evaluation' 'number_project'\n",
      " 'average_montly_hours' 'time_spend_company']\n",
      "min:\t [0.09 0.36 2 96 2]\n",
      "max:\t [1.0 1.0 7 310 10]\n",
      "range:\t [0.91 0.64 5 214 8]\n",
      "mean:\t [0.6128335222348166 0.7161017401159978 3.80305353690246 201.0503366891126\n",
      " 3.498233215547703]\n"
     ]
    },
    {
     "data": {
      "image/png": "[encoded data removed]",
      "text/plain": [
       "<matplotlib.figure.Figure at 0x111195f5358>"
      ]
     },
     "metadata": {},
     "output_type": "display_data"
    },
    {
     "data": {
      "image/png": "[encoded data removed]",
      "text/plain": [
       "<matplotlib.figure.Figure at 0x1111c505198>"
      ]
     },
     "metadata": {},
     "output_type": "display_data"
    }
   ],
   "source": [
    "# 1. look at data and see what's going on\n",
    "print(\"Example Data:\")\n",
    "print(headers)\n",
    "print(data[0])\n",
    "\n",
    "print(\"\\nBasic Stats (only first 6 elements):\")\n",
    "print(\"Shape of data:\",data.shape)\n",
    "min = np.min(data[:,0:5], axis=0)\n",
    "max = np.max(data[:,0:5], axis=0)\n",
    "mean = np.mean(data[:,0:5], axis=0)\n",
    "print(headers[0:5])\n",
    "print(\"min:\\t\",min)\n",
    "print(\"max:\\t\",max)\n",
    "print(\"range:\\t\", (max-min))\n",
    "print(\"mean:\\t\", mean)\n",
    "\n",
    "\n",
    "\n",
    "# deviations / correlations\n",
    "\n",
    "# binary data pts\n",
    "\n",
    "# Box and whisker\n",
    "# fig = plt.figure(1, figsize=(9, 6))\n",
    "# ax = fig.add_subplot(111)\n",
    "# bp = ax.boxplot(data[:,0:5].tolist())\n",
    "# plt.show()\n",
    "\n",
    "# print(\"\\nFrequency of department:\")\n",
    "# print(unique_elements)\n",
    "# print(counts_elements)\n",
    "unique_elements, counts_elements = np.unique(data[:,8], return_counts=True)\n",
    "y_pos = np.arange(len(unique_elements))\n",
    "plt.barh(y_pos, counts_elements, align='center', alpha=.7)\n",
    "plt.yticks(y_pos, unique_elements)\n",
    "plt.xlabel('Frequency')\n",
    "plt.title(\"Frequency of department\")\n",
    "plt.show()\n",
    "\n",
    "# print(\"\\nFrequency of salary:\")\n",
    "# print(unique_elements)\n",
    "# print(counts_elements)\n",
    "unique_elements, counts_elements = np.unique(data[:,9], return_counts=True)\n",
    "y_pos = np.arange(len(unique_elements))\n",
    "plt.bar(y_pos, counts_elements, align='center', alpha=.7)\n",
    "plt.xticks(y_pos, unique_elements)\n",
    "plt.xlabel('Salary')\n",
    "plt.ylabel('Frequency')\n",
    "plt.title(\"Frequency of salary range\")\n",
    "plt.show()\n",
    "\n",
    "\n"
   ]
  },
  {
   "cell_type": "code",
   "execution_count": 3,
   "metadata": {
    "collapsed": true
   },
   "outputs": [],
   "source": [
    "# 2. clean up the data\n",
    "# There are errors in the header which the url describes - Im fixing this so its less confusing\n",
    "headers[8] = \"department\""
   ]
  }
 ],
 "metadata": {
  "kernelspec": {
   "display_name": "Python 3",
   "language": "python",
   "name": "python3"
  },
  "language_info": {
   "codemirror_mode": {
    "name": "ipython",
    "version": 3
   },
   "file_extension": ".py",
   "mimetype": "text/x-python",
   "name": "python",
   "nbconvert_exporter": "python",
   "pygments_lexer": "ipython3",
   "version": "3.6.0"
  }
 },
 "nbformat": 4,
 "nbformat_minor": 2
}
